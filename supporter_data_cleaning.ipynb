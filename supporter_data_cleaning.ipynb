{
 "cells": [
  {
   "cell_type": "markdown",
   "metadata": {},
   "source": [
    "# Cleaning Supporter Data\n",
    "We are cleaning this data set so that we can easily analyze it to understand what the demographics of this non-profits supporter base is. This analyst will be used for targeting audiences better. \n",
    "\n",
    "(testing to see if I understand version control in git)"
   ]
  },
  {
   "cell_type": "code",
   "execution_count": 1,
   "metadata": {},
   "outputs": [],
   "source": [
    "import pandas as pd\n",
    "import numpy as np\n",
    "import matplotlib as plt\n",
    "%matplotlib inline"
   ]
  },
  {
   "cell_type": "code",
   "execution_count": 2,
   "metadata": {},
   "outputs": [],
   "source": [
    "data = pd.read_csv('data/full_list_ready.csv')"
   ]
  },
  {
   "cell_type": "code",
   "execution_count": 3,
   "metadata": {},
   "outputs": [
    {
     "name": "stdout",
     "output_type": "stream",
     "text": [
      "<class 'pandas.core.frame.DataFrame'>\n",
      "RangeIndex: 70824 entries, 0 to 70823\n",
      "Data columns (total 20 columns):\n",
      "Contact Id            70824 non-null object\n",
      "Contact Type          70824 non-null object\n",
      "Primary City          57207 non-null object\n",
      "Primary Zip           56221 non-null object\n",
      "Donor                 70824 non-null object\n",
      "Age                   45993 non-null float64\n",
      "MaritalStatus         41763 non-null object\n",
      "RaceName              45993 non-null object\n",
      "General16             44277 non-null object\n",
      "General15             29748 non-null object\n",
      "General14             35810 non-null object\n",
      "PresPrimary16         33537 non-null object\n",
      "PresPrimary16Party    33384 non-null object\n",
      "PresPrimary12         3609 non-null object\n",
      "PresPrimary12Party    3478 non-null object\n",
      "Primary17             30829 non-null object\n",
      "Primary17Party        30828 non-null object\n",
      "Primary16             33840 non-null object\n",
      "Primary16Party        33675 non-null object\n",
      "Partisanship Score    45694 non-null object\n",
      "dtypes: float64(1), object(19)\n",
      "memory usage: 10.8+ MB\n"
     ]
    },
    {
     "data": {
      "text/html": [
       "<div>\n",
       "<style scoped>\n",
       "    .dataframe tbody tr th:only-of-type {\n",
       "        vertical-align: middle;\n",
       "    }\n",
       "\n",
       "    .dataframe tbody tr th {\n",
       "        vertical-align: top;\n",
       "    }\n",
       "\n",
       "    .dataframe thead th {\n",
       "        text-align: right;\n",
       "    }\n",
       "</style>\n",
       "<table border=\"1\" class=\"dataframe\">\n",
       "  <thead>\n",
       "    <tr style=\"text-align: right;\">\n",
       "      <th></th>\n",
       "      <th>Contact Id</th>\n",
       "      <th>Contact Type</th>\n",
       "      <th>Primary City</th>\n",
       "      <th>Primary Zip</th>\n",
       "      <th>Donor</th>\n",
       "      <th>Age</th>\n",
       "      <th>MaritalStatus</th>\n",
       "      <th>RaceName</th>\n",
       "      <th>General16</th>\n",
       "      <th>General15</th>\n",
       "      <th>General14</th>\n",
       "      <th>PresPrimary16</th>\n",
       "      <th>PresPrimary16Party</th>\n",
       "      <th>PresPrimary12</th>\n",
       "      <th>PresPrimary12Party</th>\n",
       "      <th>Primary17</th>\n",
       "      <th>Primary17Party</th>\n",
       "      <th>Primary16</th>\n",
       "      <th>Primary16Party</th>\n",
       "      <th>Partisanship Score</th>\n",
       "    </tr>\n",
       "  </thead>\n",
       "  <tbody>\n",
       "    <tr>\n",
       "      <th>0</th>\n",
       "      <td>VR10T1016Q64</td>\n",
       "      <td>Individual</td>\n",
       "      <td>Chesterfield</td>\n",
       "      <td>23832-2571</td>\n",
       "      <td>N</td>\n",
       "      <td>51.0</td>\n",
       "      <td>M</td>\n",
       "      <td>Caucasian</td>\n",
       "      <td>A</td>\n",
       "      <td>P</td>\n",
       "      <td>P</td>\n",
       "      <td>A</td>\n",
       "      <td>D</td>\n",
       "      <td>NaN</td>\n",
       "      <td>NaN</td>\n",
       "      <td>P</td>\n",
       "      <td>D</td>\n",
       "      <td>A</td>\n",
       "      <td>D</td>\n",
       "      <td>80-100</td>\n",
       "    </tr>\n",
       "    <tr>\n",
       "      <th>1</th>\n",
       "      <td>VR10T1016Q72</td>\n",
       "      <td>Individual</td>\n",
       "      <td>Fredericksburg</td>\n",
       "      <td>22407-7367</td>\n",
       "      <td>N</td>\n",
       "      <td>44.0</td>\n",
       "      <td>M</td>\n",
       "      <td>Caucasian</td>\n",
       "      <td>P</td>\n",
       "      <td>NaN</td>\n",
       "      <td>NaN</td>\n",
       "      <td>NaN</td>\n",
       "      <td>NaN</td>\n",
       "      <td>NaN</td>\n",
       "      <td>NaN</td>\n",
       "      <td>NaN</td>\n",
       "      <td>NaN</td>\n",
       "      <td>NaN</td>\n",
       "      <td>NaN</td>\n",
       "      <td>80-100</td>\n",
       "    </tr>\n",
       "    <tr>\n",
       "      <th>2</th>\n",
       "      <td>VR10T1016Q80</td>\n",
       "      <td>Individual</td>\n",
       "      <td>Clifton</td>\n",
       "      <td>20124-2223</td>\n",
       "      <td>N</td>\n",
       "      <td>56.0</td>\n",
       "      <td>M</td>\n",
       "      <td>Caucasian</td>\n",
       "      <td>P</td>\n",
       "      <td>P</td>\n",
       "      <td>P</td>\n",
       "      <td>P</td>\n",
       "      <td>D</td>\n",
       "      <td>NaN</td>\n",
       "      <td>NaN</td>\n",
       "      <td>P</td>\n",
       "      <td>D</td>\n",
       "      <td>P</td>\n",
       "      <td>D</td>\n",
       "      <td>60-80</td>\n",
       "    </tr>\n",
       "    <tr>\n",
       "      <th>3</th>\n",
       "      <td>VR10T1016Q98</td>\n",
       "      <td>Individual</td>\n",
       "      <td>Lexington</td>\n",
       "      <td>24450-4300</td>\n",
       "      <td>N</td>\n",
       "      <td>66.0</td>\n",
       "      <td>M</td>\n",
       "      <td>Caucasian</td>\n",
       "      <td>A</td>\n",
       "      <td>P</td>\n",
       "      <td>NaN</td>\n",
       "      <td>P</td>\n",
       "      <td>D</td>\n",
       "      <td>NaN</td>\n",
       "      <td>NaN</td>\n",
       "      <td>P</td>\n",
       "      <td>D</td>\n",
       "      <td>P</td>\n",
       "      <td>D</td>\n",
       "      <td>60-80</td>\n",
       "    </tr>\n",
       "    <tr>\n",
       "      <th>4</th>\n",
       "      <td>VR10T1016QA6</td>\n",
       "      <td>Individual</td>\n",
       "      <td>Lexington</td>\n",
       "      <td>24450-1863</td>\n",
       "      <td>N</td>\n",
       "      <td>61.0</td>\n",
       "      <td>S</td>\n",
       "      <td>Caucasian</td>\n",
       "      <td>P</td>\n",
       "      <td>P</td>\n",
       "      <td>A</td>\n",
       "      <td>P</td>\n",
       "      <td>R</td>\n",
       "      <td>NaN</td>\n",
       "      <td>NaN</td>\n",
       "      <td>NaN</td>\n",
       "      <td>NaN</td>\n",
       "      <td>P</td>\n",
       "      <td>R</td>\n",
       "      <td>80-100</td>\n",
       "    </tr>\n",
       "  </tbody>\n",
       "</table>\n",
       "</div>"
      ],
      "text/plain": [
       "     Contact Id Contact Type    Primary City Primary Zip Donor   Age  \\\n",
       "0  VR10T1016Q64   Individual    Chesterfield  23832-2571     N  51.0   \n",
       "1  VR10T1016Q72   Individual  Fredericksburg  22407-7367     N  44.0   \n",
       "2  VR10T1016Q80   Individual         Clifton  20124-2223     N  56.0   \n",
       "3  VR10T1016Q98   Individual       Lexington  24450-4300     N  66.0   \n",
       "4  VR10T1016QA6   Individual       Lexington  24450-1863     N  61.0   \n",
       "\n",
       "  MaritalStatus   RaceName General16 General15 General14 PresPrimary16  \\\n",
       "0             M  Caucasian         A         P         P             A   \n",
       "1             M  Caucasian         P       NaN       NaN           NaN   \n",
       "2             M  Caucasian         P         P         P             P   \n",
       "3             M  Caucasian         A         P       NaN             P   \n",
       "4             S  Caucasian         P         P         A             P   \n",
       "\n",
       "  PresPrimary16Party PresPrimary12 PresPrimary12Party Primary17  \\\n",
       "0                  D           NaN                NaN         P   \n",
       "1                NaN           NaN                NaN       NaN   \n",
       "2                  D           NaN                NaN         P   \n",
       "3                  D           NaN                NaN         P   \n",
       "4                  R           NaN                NaN       NaN   \n",
       "\n",
       "  Primary17Party Primary16 Primary16Party Partisanship Score  \n",
       "0              D         A              D             80-100  \n",
       "1            NaN       NaN            NaN             80-100  \n",
       "2              D         P              D              60-80  \n",
       "3              D         P              D              60-80  \n",
       "4            NaN         P              R             80-100  "
      ]
     },
     "execution_count": 3,
     "metadata": {},
     "output_type": "execute_result"
    }
   ],
   "source": [
    "data.info()\n",
    "data.head(5)"
   ]
  },
  {
   "cell_type": "markdown",
   "metadata": {},
   "source": [
    "## Initial Observations\n",
    "\n",
    "- Headers are't optimized for analysis\n",
    "\n",
    "- Age and Partisanship Score are the incorrect types: Need to be integers\n",
    "\n",
    "- The last four digits in Zipcode to be deleted for aesthetics\n",
    "\n",
    "- Remove the following columns as they are not relevant to our demographic analysis:\n",
    "     - Contact Id\n",
    "     - Contact Type \n",
    "     - General16\n",
    "     - General15\n",
    "     - General14\n",
    "     - PresPrimary16\n",
    "     - PresPrimary16Party\n",
    "     - PresPrimary12\n",
    "     - PresPrimary12Party\n",
    "     - Primary17\n",
    "     - Primary17Party\n",
    "     - Primary16\n",
    "     - Primary16Party\n",
    " \n",
    "- PartisanShip Score she be changed to integers that reflect a 1-5 scale.\n",
    "     - 1 = Strong Republican\n",
    "     - 2 = Weak Republican\n",
    "     - 3 = Indepedent\n",
    "     - 4 = Weak Democrat\n",
    "     - 5 = Strong Democrat\n",
    "- There are a lot of null values throughout the data. We're to explore removing any incomplete rows.\n",
    "  "
   ]
  },
  {
   "cell_type": "markdown",
   "metadata": {},
   "source": [
    "## Removing Uncessary Columns"
   ]
  },
  {
   "cell_type": "code",
   "execution_count": 4,
   "metadata": {},
   "outputs": [
    {
     "data": {
      "text/html": [
       "<div>\n",
       "<style scoped>\n",
       "    .dataframe tbody tr th:only-of-type {\n",
       "        vertical-align: middle;\n",
       "    }\n",
       "\n",
       "    .dataframe tbody tr th {\n",
       "        vertical-align: top;\n",
       "    }\n",
       "\n",
       "    .dataframe thead th {\n",
       "        text-align: right;\n",
       "    }\n",
       "</style>\n",
       "<table border=\"1\" class=\"dataframe\">\n",
       "  <thead>\n",
       "    <tr style=\"text-align: right;\">\n",
       "      <th></th>\n",
       "      <th>Primary City</th>\n",
       "      <th>Primary Zip</th>\n",
       "      <th>Donor</th>\n",
       "      <th>Age</th>\n",
       "      <th>MaritalStatus</th>\n",
       "      <th>RaceName</th>\n",
       "      <th>Partisanship Score</th>\n",
       "    </tr>\n",
       "  </thead>\n",
       "  <tbody>\n",
       "    <tr>\n",
       "      <th>0</th>\n",
       "      <td>Chesterfield</td>\n",
       "      <td>23832-2571</td>\n",
       "      <td>N</td>\n",
       "      <td>51.0</td>\n",
       "      <td>M</td>\n",
       "      <td>Caucasian</td>\n",
       "      <td>80-100</td>\n",
       "    </tr>\n",
       "    <tr>\n",
       "      <th>1</th>\n",
       "      <td>Fredericksburg</td>\n",
       "      <td>22407-7367</td>\n",
       "      <td>N</td>\n",
       "      <td>44.0</td>\n",
       "      <td>M</td>\n",
       "      <td>Caucasian</td>\n",
       "      <td>80-100</td>\n",
       "    </tr>\n",
       "    <tr>\n",
       "      <th>2</th>\n",
       "      <td>Clifton</td>\n",
       "      <td>20124-2223</td>\n",
       "      <td>N</td>\n",
       "      <td>56.0</td>\n",
       "      <td>M</td>\n",
       "      <td>Caucasian</td>\n",
       "      <td>60-80</td>\n",
       "    </tr>\n",
       "    <tr>\n",
       "      <th>3</th>\n",
       "      <td>Lexington</td>\n",
       "      <td>24450-4300</td>\n",
       "      <td>N</td>\n",
       "      <td>66.0</td>\n",
       "      <td>M</td>\n",
       "      <td>Caucasian</td>\n",
       "      <td>60-80</td>\n",
       "    </tr>\n",
       "    <tr>\n",
       "      <th>4</th>\n",
       "      <td>Lexington</td>\n",
       "      <td>24450-1863</td>\n",
       "      <td>N</td>\n",
       "      <td>61.0</td>\n",
       "      <td>S</td>\n",
       "      <td>Caucasian</td>\n",
       "      <td>80-100</td>\n",
       "    </tr>\n",
       "  </tbody>\n",
       "</table>\n",
       "</div>"
      ],
      "text/plain": [
       "     Primary City Primary Zip Donor   Age MaritalStatus   RaceName  \\\n",
       "0    Chesterfield  23832-2571     N  51.0             M  Caucasian   \n",
       "1  Fredericksburg  22407-7367     N  44.0             M  Caucasian   \n",
       "2         Clifton  20124-2223     N  56.0             M  Caucasian   \n",
       "3       Lexington  24450-4300     N  66.0             M  Caucasian   \n",
       "4       Lexington  24450-1863     N  61.0             S  Caucasian   \n",
       "\n",
       "  Partisanship Score  \n",
       "0             80-100  \n",
       "1             80-100  \n",
       "2              60-80  \n",
       "3              60-80  \n",
       "4             80-100  "
      ]
     },
     "execution_count": 4,
     "metadata": {},
     "output_type": "execute_result"
    }
   ],
   "source": [
    "columns_to_delete = ['Contact Id','Contact Type','General16','General15','General14','PresPrimary16','PresPrimary16Party','PresPrimary12','PresPrimary12Party','Primary17','Primary17Party','Primary16','Primary16Party']\n",
    "data.drop(columns_to_delete,axis=1,inplace=True)\n",
    "data.head(5)"
   ]
  },
  {
   "cell_type": "markdown",
   "metadata": {},
   "source": [
    "## Renaming Columns"
   ]
  },
  {
   "cell_type": "markdown",
   "metadata": {},
   "source": [
    "We will rename the columbs by creating a list of the old columns and use .copy() to assign it to a new list to be modified."
   ]
  },
  {
   "cell_type": "code",
   "execution_count": 5,
   "metadata": {},
   "outputs": [],
   "source": [
    "old_columns = data.columns\n",
    "new_columns = old_columns.copy"
   ]
  },
  {
   "cell_type": "code",
   "execution_count": 6,
   "metadata": {},
   "outputs": [
    {
     "name": "stdout",
     "output_type": "stream",
     "text": [
      "<bound method Index.copy of Index(['Primary City', 'Primary Zip', 'Donor', 'Age', 'MaritalStatus',\n",
      "       'RaceName', 'Partisanship Score'],\n",
      "      dtype='object')>\n"
     ]
    }
   ],
   "source": [
    "print(new_columns)"
   ]
  },
  {
   "cell_type": "code",
   "execution_count": 7,
   "metadata": {},
   "outputs": [],
   "source": [
    "new_columns = ['primary_city', 'zipcode', 'donor', 'age', 'marital_status', 'race', 'partisanship_score']\n",
    "data.columns = new_columns"
   ]
  },
  {
   "cell_type": "code",
   "execution_count": 8,
   "metadata": {},
   "outputs": [
    {
     "data": {
      "text/html": [
       "<div>\n",
       "<style scoped>\n",
       "    .dataframe tbody tr th:only-of-type {\n",
       "        vertical-align: middle;\n",
       "    }\n",
       "\n",
       "    .dataframe tbody tr th {\n",
       "        vertical-align: top;\n",
       "    }\n",
       "\n",
       "    .dataframe thead th {\n",
       "        text-align: right;\n",
       "    }\n",
       "</style>\n",
       "<table border=\"1\" class=\"dataframe\">\n",
       "  <thead>\n",
       "    <tr style=\"text-align: right;\">\n",
       "      <th></th>\n",
       "      <th>primary_city</th>\n",
       "      <th>zipcode</th>\n",
       "      <th>donor</th>\n",
       "      <th>age</th>\n",
       "      <th>marital_status</th>\n",
       "      <th>race</th>\n",
       "      <th>partisanship_score</th>\n",
       "    </tr>\n",
       "  </thead>\n",
       "  <tbody>\n",
       "    <tr>\n",
       "      <th>0</th>\n",
       "      <td>Chesterfield</td>\n",
       "      <td>23832-2571</td>\n",
       "      <td>N</td>\n",
       "      <td>51.0</td>\n",
       "      <td>M</td>\n",
       "      <td>Caucasian</td>\n",
       "      <td>80-100</td>\n",
       "    </tr>\n",
       "    <tr>\n",
       "      <th>1</th>\n",
       "      <td>Fredericksburg</td>\n",
       "      <td>22407-7367</td>\n",
       "      <td>N</td>\n",
       "      <td>44.0</td>\n",
       "      <td>M</td>\n",
       "      <td>Caucasian</td>\n",
       "      <td>80-100</td>\n",
       "    </tr>\n",
       "  </tbody>\n",
       "</table>\n",
       "</div>"
      ],
      "text/plain": [
       "     primary_city     zipcode donor   age marital_status       race  \\\n",
       "0    Chesterfield  23832-2571     N  51.0              M  Caucasian   \n",
       "1  Fredericksburg  22407-7367     N  44.0              M  Caucasian   \n",
       "\n",
       "  partisanship_score  \n",
       "0             80-100  \n",
       "1             80-100  "
      ]
     },
     "execution_count": 8,
     "metadata": {},
     "output_type": "execute_result"
    }
   ],
   "source": [
    "data.head(2)"
   ]
  },
  {
   "cell_type": "markdown",
   "metadata": {},
   "source": [
    "## Exploring removing incomplete columns"
   ]
  },
  {
   "cell_type": "markdown",
   "metadata": {},
   "source": [
    "We can conclude that if we remove all null values from our data, we lose a significant portion of our data. However, this gives us only supporters who have a complete demographic profile."
   ]
  },
  {
   "cell_type": "code",
   "execution_count": 9,
   "metadata": {},
   "outputs": [
    {
     "name": "stdout",
     "output_type": "stream",
     "text": [
      "<class 'pandas.core.frame.DataFrame'>\n",
      "Int64Index: 38058 entries, 0 to 70822\n",
      "Data columns (total 7 columns):\n",
      "primary_city          38058 non-null object\n",
      "zipcode               38058 non-null object\n",
      "donor                 38058 non-null object\n",
      "age                   38058 non-null float64\n",
      "marital_status        38058 non-null object\n",
      "race                  38058 non-null object\n",
      "partisanship_score    38058 non-null object\n",
      "dtypes: float64(1), object(6)\n",
      "memory usage: 2.3+ MB\n"
     ]
    }
   ],
   "source": [
    "test_data_after_removal = data.dropna(axis=0)\n",
    "test_data_after_removal.info()"
   ]
  },
  {
   "cell_type": "code",
   "execution_count": 10,
   "metadata": {},
   "outputs": [
    {
     "name": "stdout",
     "output_type": "stream",
     "text": [
      "<class 'pandas.core.frame.DataFrame'>\n",
      "RangeIndex: 70824 entries, 0 to 70823\n",
      "Data columns (total 7 columns):\n",
      "primary_city          57207 non-null object\n",
      "zipcode               56221 non-null object\n",
      "donor                 70824 non-null object\n",
      "age                   45993 non-null float64\n",
      "marital_status        41763 non-null object\n",
      "race                  45993 non-null object\n",
      "partisanship_score    45694 non-null object\n",
      "dtypes: float64(1), object(6)\n",
      "memory usage: 3.8+ MB\n"
     ]
    }
   ],
   "source": [
    "data.info()"
   ]
  },
  {
   "cell_type": "code",
   "execution_count": 11,
   "metadata": {},
   "outputs": [],
   "source": [
    "data = test_data_after_removal"
   ]
  },
  {
   "cell_type": "markdown",
   "metadata": {},
   "source": [
    "## Converting partisanship_score"
   ]
  },
  {
   "cell_type": "markdown",
   "metadata": {},
   "source": [
    "Converting the partisanship score to a scale of integers will allow us to run further analysis on our supporters."
   ]
  },
  {
   "cell_type": "code",
   "execution_count": 12,
   "metadata": {},
   "outputs": [
    {
     "data": {
      "text/plain": [
       "array(['80-100', '60-80', '40-60', '0-20', '20-40'], dtype=object)"
      ]
     },
     "execution_count": 12,
     "metadata": {},
     "output_type": "execute_result"
    }
   ],
   "source": [
    "data['partisanship_score'].unique()"
   ]
  },
  {
   "cell_type": "code",
   "execution_count": 13,
   "metadata": {},
   "outputs": [
    {
     "data": {
      "text/plain": [
       "array([5, 4, 3, 1, 2])"
      ]
     },
     "execution_count": 13,
     "metadata": {},
     "output_type": "execute_result"
    }
   ],
   "source": [
    "mapping_dict = {\n",
    "    '80-100': 5,\n",
    "    '60-80': 4,\n",
    "    '40-60': 3,\n",
    "    '20-40': 2,\n",
    "    '0-20': 1,\n",
    " }\n",
    "data['partisanship_score']= data['partisanship_score'].map(mapping_dict)\n",
    "data['partisanship_score'].unique()"
   ]
  },
  {
   "cell_type": "markdown",
   "metadata": {},
   "source": [
    "## Converting partisanship_score & age to integers"
   ]
  },
  {
   "cell_type": "markdown",
   "metadata": {},
   "source": [
    "partisanship_score is currently an object and age is currently a float. We need to turn them both into integers for our analysis."
   ]
  },
  {
   "cell_type": "code",
   "execution_count": 14,
   "metadata": {},
   "outputs": [],
   "source": [
    "data['partisanship_score'] = data['partisanship_score'].astype(float)"
   ]
  },
  {
   "cell_type": "code",
   "execution_count": 15,
   "metadata": {},
   "outputs": [],
   "source": [
    "data['partisanship_score'] = data['partisanship_score'].astype(int)"
   ]
  },
  {
   "cell_type": "code",
   "execution_count": 16,
   "metadata": {},
   "outputs": [],
   "source": [
    "data['age'] = data['age'].astype(int)"
   ]
  },
  {
   "cell_type": "code",
   "execution_count": 17,
   "metadata": {},
   "outputs": [
    {
     "name": "stdout",
     "output_type": "stream",
     "text": [
      "<class 'pandas.core.frame.DataFrame'>\n",
      "Int64Index: 38058 entries, 0 to 70822\n",
      "Data columns (total 7 columns):\n",
      "primary_city          38058 non-null object\n",
      "zipcode               38058 non-null object\n",
      "donor                 38058 non-null object\n",
      "age                   38058 non-null int64\n",
      "marital_status        38058 non-null object\n",
      "race                  38058 non-null object\n",
      "partisanship_score    38058 non-null int64\n",
      "dtypes: int64(2), object(5)\n",
      "memory usage: 2.3+ MB\n"
     ]
    }
   ],
   "source": [
    "data.info()"
   ]
  },
  {
   "cell_type": "markdown",
   "metadata": {},
   "source": [
    "## Delete the '-' and last four digits off of zipcode"
   ]
  },
  {
   "cell_type": "markdown",
   "metadata": {},
   "source": [
    "Use the str.split method to split the zipcode on the '-' and select every row in the first column."
   ]
  },
  {
   "cell_type": "code",
   "execution_count": 18,
   "metadata": {},
   "outputs": [],
   "source": [
    "data['zipcode'] = data['zipcode'].str.split('-',expand=True).iloc[:,0]"
   ]
  },
  {
   "cell_type": "markdown",
   "metadata": {},
   "source": [
    "## Converting Donor to dtype boolean"
   ]
  },
  {
   "cell_type": "markdown",
   "metadata": {},
   "source": [
    "convering the 'donor' column into a boolean dtype will make analysis easier in the second half of this project. If a supporter has donated, the donor column = True, if they have not, donor = False."
   ]
  },
  {
   "cell_type": "code",
   "execution_count": 19,
   "metadata": {},
   "outputs": [
    {
     "data": {
      "text/plain": [
       "N    35134\n",
       "Y     2924\n",
       "Name: donor, dtype: int64"
      ]
     },
     "execution_count": 19,
     "metadata": {},
     "output_type": "execute_result"
    }
   ],
   "source": [
    "data['donor'].value_counts()"
   ]
  },
  {
   "cell_type": "code",
   "execution_count": 20,
   "metadata": {},
   "outputs": [],
   "source": [
    "mapping_dict_2 = {\n",
    "    \"Y\":True,\n",
    "    \"N\":False\n",
    "}\n",
    "data['donor'] = data['donor'].map(mapping_dict_2)"
   ]
  },
  {
   "cell_type": "markdown",
   "metadata": {},
   "source": [
    "## Converting Married to dtype boolean"
   ]
  },
  {
   "cell_type": "markdown",
   "metadata": {},
   "source": [
    "convering the 'married' column into a boolean dtype will make analysis easier in the second half of this project, If a supporter has married, the married column = True, if they have not, married = False."
   ]
  },
  {
   "cell_type": "code",
   "execution_count": 21,
   "metadata": {},
   "outputs": [
    {
     "data": {
      "text/plain": [
       "M    21293\n",
       "S    16765\n",
       "Name: marital_status, dtype: int64"
      ]
     },
     "execution_count": 21,
     "metadata": {},
     "output_type": "execute_result"
    }
   ],
   "source": [
    "data['marital_status'].value_counts()"
   ]
  },
  {
   "cell_type": "code",
   "execution_count": 22,
   "metadata": {},
   "outputs": [],
   "source": [
    "mapping_dict_3 = {\n",
    "    \"M\":True,\n",
    "    \"S\":False\n",
    "}\n",
    "data['marital_status'] = data['marital_status'].map(mapping_dict_3)"
   ]
  },
  {
   "cell_type": "code",
   "execution_count": 25,
   "metadata": {},
   "outputs": [],
   "source": [
    "data.to_csv('data/cleaned_supporter_data.csv')"
   ]
  },
  {
   "cell_type": "markdown",
   "metadata": {},
   "source": [
    "## The data is now cleaned and prepared for the analysis portion of this project. "
   ]
  }
 ],
 "metadata": {
  "kernelspec": {
   "display_name": "Python 3",
   "language": "python",
   "name": "python3"
  },
  "language_info": {
   "codemirror_mode": {
    "name": "ipython",
    "version": 3
   },
   "file_extension": ".py",
   "mimetype": "text/x-python",
   "name": "python",
   "nbconvert_exporter": "python",
   "pygments_lexer": "ipython3",
   "version": "3.6.4"
  }
 },
 "nbformat": 4,
 "nbformat_minor": 2
}
