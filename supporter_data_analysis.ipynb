{
 "cells": [
  {
   "cell_type": "markdown",
   "metadata": {},
   "source": [
    "# Supporter Data Analysis\n",
    "\n",
    "This data includes all of the organizations supporters and brief demographic information on them. This information includes:\n",
    "\n",
    "- primary_city: The city the supporter lives in | dtype: string\n",
    "- zipcode: The zipcode the supportter lives in | dtype: string\n",
    "- donor: whether or not the supporter has donated in the past | dtype: boolean\n",
    "- age: the age of the supporter | dtype: integer\n",
    "- marital_status: marital status of the supporter | dtype: boolean\n",
    "- race: the race of the supporter | dtype: string\n",
    "- partisanship_score: the party that the supporter likely identifies with | dtype: integer\n",
    "    - 1 = Strong Republican\n",
    "    - 2 = Likely Republican\n",
    "    - 3 = Independent\n",
    "    - 4 = Likely Democrat\n",
    "    - 5 = Strong Democrat\n",
    "\n",
    "The objective of this anaylsis is to better understand the demographics of our supporters to be used to better target supporters and donors in key areas. We will explore the following:\n",
    "- Average age and partisanship scroes of supporters\n",
    "- Marital status of supporters\n",
    "- Supporter Locations\n",
    "- Partisanship by age\n",
    "- Supporter race\n",
    "- Race & partisanship\n",
    "- Donor profiles\n",
    "- City & Partisanship"
   ]
  },
  {
   "cell_type": "code",
   "execution_count": 1,
   "metadata": {},
   "outputs": [],
   "source": [
    "import numpy as np\n",
    "import pandas as pd\n",
    "import matplotlib.pyplot as plt\n",
    "from numpy import arange\n",
    "%matplotlib inline"
   ]
  },
  {
   "cell_type": "code",
   "execution_count": 2,
   "metadata": {},
   "outputs": [],
   "source": [
    "data = pd.read_csv('data/cleaned_supporter_data.csv')"
   ]
  },
  {
   "cell_type": "code",
   "execution_count": 3,
   "metadata": {},
   "outputs": [
    {
     "data": {
      "text/html": [
       "<div>\n",
       "<style scoped>\n",
       "    .dataframe tbody tr th:only-of-type {\n",
       "        vertical-align: middle;\n",
       "    }\n",
       "\n",
       "    .dataframe tbody tr th {\n",
       "        vertical-align: top;\n",
       "    }\n",
       "\n",
       "    .dataframe thead th {\n",
       "        text-align: right;\n",
       "    }\n",
       "</style>\n",
       "<table border=\"1\" class=\"dataframe\">\n",
       "  <thead>\n",
       "    <tr style=\"text-align: right;\">\n",
       "      <th></th>\n",
       "      <th>Unnamed: 0</th>\n",
       "      <th>primary_city</th>\n",
       "      <th>zipcode</th>\n",
       "      <th>donor</th>\n",
       "      <th>age</th>\n",
       "      <th>marital_status</th>\n",
       "      <th>race</th>\n",
       "      <th>partisanship_score</th>\n",
       "    </tr>\n",
       "  </thead>\n",
       "  <tbody>\n",
       "    <tr>\n",
       "      <th>0</th>\n",
       "      <td>0</td>\n",
       "      <td>Chesterfield</td>\n",
       "      <td>23832</td>\n",
       "      <td>False</td>\n",
       "      <td>51</td>\n",
       "      <td>True</td>\n",
       "      <td>Caucasian</td>\n",
       "      <td>5</td>\n",
       "    </tr>\n",
       "    <tr>\n",
       "      <th>1</th>\n",
       "      <td>1</td>\n",
       "      <td>Fredericksburg</td>\n",
       "      <td>22407</td>\n",
       "      <td>False</td>\n",
       "      <td>44</td>\n",
       "      <td>True</td>\n",
       "      <td>Caucasian</td>\n",
       "      <td>5</td>\n",
       "    </tr>\n",
       "    <tr>\n",
       "      <th>2</th>\n",
       "      <td>2</td>\n",
       "      <td>Clifton</td>\n",
       "      <td>20124</td>\n",
       "      <td>False</td>\n",
       "      <td>56</td>\n",
       "      <td>True</td>\n",
       "      <td>Caucasian</td>\n",
       "      <td>4</td>\n",
       "    </tr>\n",
       "    <tr>\n",
       "      <th>3</th>\n",
       "      <td>3</td>\n",
       "      <td>Lexington</td>\n",
       "      <td>24450</td>\n",
       "      <td>False</td>\n",
       "      <td>66</td>\n",
       "      <td>True</td>\n",
       "      <td>Caucasian</td>\n",
       "      <td>4</td>\n",
       "    </tr>\n",
       "    <tr>\n",
       "      <th>4</th>\n",
       "      <td>4</td>\n",
       "      <td>Lexington</td>\n",
       "      <td>24450</td>\n",
       "      <td>False</td>\n",
       "      <td>61</td>\n",
       "      <td>False</td>\n",
       "      <td>Caucasian</td>\n",
       "      <td>5</td>\n",
       "    </tr>\n",
       "  </tbody>\n",
       "</table>\n",
       "</div>"
      ],
      "text/plain": [
       "   Unnamed: 0    primary_city  zipcode  donor  age  marital_status       race  \\\n",
       "0           0    Chesterfield    23832  False   51            True  Caucasian   \n",
       "1           1  Fredericksburg    22407  False   44            True  Caucasian   \n",
       "2           2         Clifton    20124  False   56            True  Caucasian   \n",
       "3           3       Lexington    24450  False   66            True  Caucasian   \n",
       "4           4       Lexington    24450  False   61           False  Caucasian   \n",
       "\n",
       "   partisanship_score  \n",
       "0                   5  \n",
       "1                   5  \n",
       "2                   4  \n",
       "3                   4  \n",
       "4                   5  "
      ]
     },
     "execution_count": 3,
     "metadata": {},
     "output_type": "execute_result"
    }
   ],
   "source": [
    "data.head()"
   ]
  },
  {
   "cell_type": "markdown",
   "metadata": {},
   "source": [
    "## 1. Exploring Mean of Supporter Partisanship Score & Age"
   ]
  },
  {
   "cell_type": "code",
   "execution_count": 4,
   "metadata": {},
   "outputs": [
    {
     "data": {
      "text/html": [
       "<div>\n",
       "<style scoped>\n",
       "    .dataframe tbody tr th:only-of-type {\n",
       "        vertical-align: middle;\n",
       "    }\n",
       "\n",
       "    .dataframe tbody tr th {\n",
       "        vertical-align: top;\n",
       "    }\n",
       "\n",
       "    .dataframe thead th {\n",
       "        text-align: right;\n",
       "    }\n",
       "</style>\n",
       "<table border=\"1\" class=\"dataframe\">\n",
       "  <thead>\n",
       "    <tr style=\"text-align: right;\">\n",
       "      <th></th>\n",
       "      <th>partisanship_score</th>\n",
       "      <th>age</th>\n",
       "    </tr>\n",
       "  </thead>\n",
       "  <tbody>\n",
       "    <tr>\n",
       "      <th>count</th>\n",
       "      <td>38058.000000</td>\n",
       "      <td>38058.000000</td>\n",
       "    </tr>\n",
       "    <tr>\n",
       "      <th>mean</th>\n",
       "      <td>3.967497</td>\n",
       "      <td>58.130853</td>\n",
       "    </tr>\n",
       "    <tr>\n",
       "      <th>std</th>\n",
       "      <td>1.440345</td>\n",
       "      <td>15.238170</td>\n",
       "    </tr>\n",
       "    <tr>\n",
       "      <th>min</th>\n",
       "      <td>1.000000</td>\n",
       "      <td>17.000000</td>\n",
       "    </tr>\n",
       "    <tr>\n",
       "      <th>25%</th>\n",
       "      <td>3.000000</td>\n",
       "      <td>47.000000</td>\n",
       "    </tr>\n",
       "    <tr>\n",
       "      <th>50%</th>\n",
       "      <td>5.000000</td>\n",
       "      <td>60.000000</td>\n",
       "    </tr>\n",
       "    <tr>\n",
       "      <th>75%</th>\n",
       "      <td>5.000000</td>\n",
       "      <td>69.000000</td>\n",
       "    </tr>\n",
       "    <tr>\n",
       "      <th>max</th>\n",
       "      <td>5.000000</td>\n",
       "      <td>103.000000</td>\n",
       "    </tr>\n",
       "  </tbody>\n",
       "</table>\n",
       "</div>"
      ],
      "text/plain": [
       "       partisanship_score           age\n",
       "count        38058.000000  38058.000000\n",
       "mean             3.967497     58.130853\n",
       "std              1.440345     15.238170\n",
       "min              1.000000     17.000000\n",
       "25%              3.000000     47.000000\n",
       "50%              5.000000     60.000000\n",
       "75%              5.000000     69.000000\n",
       "max              5.000000    103.000000"
      ]
     },
     "execution_count": 4,
     "metadata": {},
     "output_type": "execute_result"
    }
   ],
   "source": [
    "data[['partisanship_score','age']].describe()"
   ]
  },
  {
   "cell_type": "markdown",
   "metadata": {},
   "source": [
    "### We now know:\n",
    "- the average age of our supporter is about 58 years old\n",
    "- the average supporter has a partisanship_score of 3.97. This means it's most likely that our supporters are likely democrtas."
   ]
  },
  {
   "cell_type": "markdown",
   "metadata": {},
   "source": [
    "## 2. Exploring the Marital Status of Supporters"
   ]
  },
  {
   "cell_type": "code",
   "execution_count": 5,
   "metadata": {},
   "outputs": [
    {
     "name": "stdout",
     "output_type": "stream",
     "text": [
      "{'married': 21293, 'single': 16765}\n"
     ]
    }
   ],
   "source": [
    "marriage = {'married':0, 'single':0}\n",
    "for item in data['marital_status']:\n",
    "    if item == True:\n",
    "        marriage['married'] = marriage['married'] + 1\n",
    "    elif item == False:\n",
    "        marriage['single'] = marriage['single'] + 1\n",
    "        \n",
    "print(marriage)\n",
    "   "
   ]
  },
  {
   "cell_type": "markdown",
   "metadata": {},
   "source": [
    "pyplot.bar(bar_positions, bar_heights, width)\n",
    "\n"
   ]
  },
  {
   "cell_type": "code",
   "execution_count": 6,
   "metadata": {},
   "outputs": [
    {
     "data": {
      "text/plain": [
       "Text(0.5,1,'Marital Status')"
      ]
     },
     "execution_count": 6,
     "metadata": {},
     "output_type": "execute_result"
    },
    {
     "data": {
      "image/png": "[encoded data removed]",
      "text/plain": [
       "<matplotlib.figure.Figure at 0x113659f28>"
      ]
     },
     "metadata": {},
     "output_type": "display_data"
    }
   ],
   "source": [
    "status = ['Married', 'Single']\n",
    "heights = [21293, 16765]\n",
    "position = arange(2) + 1\n",
    "colors = ['lightcoral', 'lightblue']\n",
    "labels = ['Married', 'Single']\n",
    "fig, ax = plt.subplots()\n",
    "ax = plt.pie(heights,autopct='%1.1f%%', labels = labels, shadow=False, startangle=90, colors = colors,)\n",
    "plt.axis('equal')\n",
    "plt.title(\"Marital Status\")\n",
    "\n",
    "\n"
   ]
  },
  {
   "cell_type": "markdown",
   "metadata": {},
   "source": [
    "### We now know:\n",
    "\n",
    "- A majority of our supporters are married"
   ]
  },
  {
   "cell_type": "markdown",
   "metadata": {},
   "source": [
    "## 3. Exploring Location of Supporters"
   ]
  },
  {
   "cell_type": "code",
   "execution_count": 7,
   "metadata": {},
   "outputs": [
    {
     "name": "stdout",
     "output_type": "stream",
     "text": [
      "{'Fredericksburg': 729, 'Lexington': 209, 'Charlottesville': 3011, 'Alexandria': 2126, 'Richmond': 3341, 'Herndon': 390, 'Williamsburg': 853, 'Fairfax': 829, 'Falls Church': 994, 'Roanoke': 474, 'Reston': 732, 'Vienna': 556, 'North Chesterfield': 470, 'Virginia Beach': 1851, 'Blacksburg': 401, 'Midlothian': 490, 'Manassas': 355, 'Burke': 256, 'Glen Allen': 390, 'Henrico': 997, 'Sterling': 246, 'Springfield': 639, 'Arlington': 1835, 'Warrenton': 218, 'Norfolk': 950, 'Woodbridge': 424, 'Crozet': 268, 'Annandale': 398, 'McLean': 224, 'Mechanicsville': 301, 'Chesapeake': 310, 'Newport News': 472, 'Staunton': 464, 'Centreville': 282, 'Ashburn': 251, 'Lynchburg': 684, 'Leesburg': 256, 'Fairfax Station': 309, 'Palmyra': 476}\n"
     ]
    }
   ],
   "source": [
    "cities = data['primary_city']\n",
    "city_count = {}\n",
    "for i in cities:\n",
    "    if i in city_count:\n",
    "        city_count[i] = city_count[i] + 1\n",
    "    else:\n",
    "        city_count[i] = city_count[i] = 1\n",
    "\n",
    "top_cities = [k for k,v in city_count.items() if v >= 200]\n",
    "# Used dict( to create a dictionary based off dictionary comprehension\n",
    "top_cities_count = dict((k, v) for k, v in city_count.items() if v >= 200)\n",
    "\n",
    "names_of_top_cities = list(top_cities_count.keys())\n",
    "counts_of_top_cities = list(top_cities_count.values())\n",
    "\n",
    "print(top_cities_count)\n",
    "\n"
   ]
  },
  {
   "cell_type": "code",
   "execution_count": 8,
   "metadata": {},
   "outputs": [
    {
     "data": {
      "text/plain": [
       "Text(0.5,1,'Supporter Count By City')"
      ]
     },
     "execution_count": 8,
     "metadata": {},
     "output_type": "execute_result"
    },
    {
     "data": {
      "image/png": "[encoded data removed]",
      "text/plain": [
       "<matplotlib.figure.Figure at 0x114eb09b0>"
      ]
     },
     "metadata": {},
     "output_type": "display_data"
    }
   ],
   "source": [
    "heights2 = counts_of_top_cities\n",
    "labels2 = names_of_top_cities\n",
    "position2 = arange(39) \n",
    "tick_positions2 = range(0,39)\n",
    "\n",
    "fig = plt.figure(figsize=(10,10))\n",
    "ax = fig.add_subplot(1,1,1)\n",
    "ax.bar(position2, heights2, .5)\n",
    "ax.set_xticks(tick_positions2)\n",
    "ax.set_xticklabels(labels2, rotation = 90)\n",
    "ax.set_xlabel('City')\n",
    "ax.set_ylabel('Supporter Count')\n",
    "ax.set_title('Supporter Count By City')"
   ]
  },
  {
   "cell_type": "markdown",
   "metadata": {},
   "source": [
    "### We now know\n",
    "- Majority of our supporters are concentrated between 15 cities in Virginia. \n",
    "    - Fredericksburg\n",
    "    - Charlottesville\n",
    "    - Alexandria\n",
    "    - Richmond\n",
    "    - Williamsburg\n",
    "    - Fairfax\n",
    "    - Falls Church\n",
    "    - Reston\n",
    "    - Vienna\n",
    "    - Virginia Beach\n",
    "    - Henrico\n",
    "    - Springfield\n",
    "    - Arlington\n",
    "    - Norfolk\n",
    "    - Lynchburg\n",
    "    "
   ]
  },
  {
   "cell_type": "markdown",
   "metadata": {},
   "source": [
    "## 4. Exploring Partisanship Score by Age"
   ]
  },
  {
   "cell_type": "code",
   "execution_count": 9,
   "metadata": {
    "scrolled": true
   },
   "outputs": [
    {
     "data": {
      "image/png": "[encoded data removed]",
      "text/plain": [
       "<matplotlib.figure.Figure at 0x10df458d0>"
      ]
     },
     "metadata": {},
     "output_type": "display_data"
    }
   ],
   "source": [
    "ages_sorted = data.sort_values(by='age')\n",
    "ages_partisanship = ages_sorted.copy()\n",
    "ages_partisanship = ages_partisanship[['age', 'partisanship_score']]\n",
    "grouped = ages_partisanship.groupby('age', as_index=False)['partisanship_score'].mean()\n",
    "fig = plt.figure()\n",
    "ax = plt.scatter(grouped['age'], grouped['partisanship_score'])"
   ]
  },
  {
   "cell_type": "markdown",
   "metadata": {},
   "source": [
    "### We now know:\n",
    "- supporters partisanship_scores are about the same from the age range of ~30 - ~80\n",
    "- younger (20-30) and older (80+) supporters are more likely to be more partisan leaning"
   ]
  },
  {
   "cell_type": "markdown",
   "metadata": {},
   "source": [
    "## 5. Exploring Race by Supporter"
   ]
  },
  {
   "cell_type": "code",
   "execution_count": 10,
   "metadata": {},
   "outputs": [
    {
     "data": {
      "text/plain": [
       "Text(0.5,1,'Supporter Count by Race')"
      ]
     },
     "execution_count": 10,
     "metadata": {},
     "output_type": "execute_result"
    },
    {
     "data": {
      "image/png": "[encoded data removed]",
      "text/plain": [
       "<matplotlib.figure.Figure at 0x1144f1c50>"
      ]
     },
     "metadata": {},
     "output_type": "display_data"
    }
   ],
   "source": [
    "race_count = {}\n",
    "\n",
    "for i in data['race']:\n",
    "    if i in race_count:\n",
    "        race_count[i] = race_count[i] + 1\n",
    "    else:\n",
    "        race_count[i] = race_count[i] = 1\n",
    "        \n",
    "races = list(race_count.keys())\n",
    "race_counts = list(race_count.values())\n",
    "\n",
    "fig = plt.figure()\n",
    "ax = plt.barh(races,race_counts,.5, color = \"green\")\n",
    "plt.ylabel(\"Race Name\")\n",
    "plt.xlabel(\"Number of Supporters\")\n",
    "plt.title(\"Supporter Count by Race\")"
   ]
  },
  {
   "cell_type": "markdown",
   "metadata": {},
   "source": [
    "### We now know\n",
    "- Our organziation's supporters are disportionally white, with black being the second most common race\n"
   ]
  },
  {
   "cell_type": "markdown",
   "metadata": {},
   "source": [
    "## 6. Exploring Partisanship by Race"
   ]
  },
  {
   "cell_type": "code",
   "execution_count": 11,
   "metadata": {},
   "outputs": [
    {
     "name": "stdout",
     "output_type": "stream",
     "text": [
      "              race  partisanship_score\n",
      "0            Asian            4.000000\n",
      "1            Black            4.537985\n",
      "2        Caucasian            3.920879\n",
      "3         Hispanic            4.203455\n",
      "4  Native American            3.666667\n",
      "5          Unknown            4.148936\n"
     ]
    }
   ],
   "source": [
    "race_partisanship = data[['race', 'partisanship_score']]\n",
    "grouped_races = race_partisanship.groupby('race', as_index=False)['partisanship_score'].mean()\n",
    "print(grouped_races)\n"
   ]
  },
  {
   "cell_type": "markdown",
   "metadata": {},
   "source": [
    "### We now know\n",
    "- race is not a huge contributer to partisanship_score. Every race falls within one std of the mean score."
   ]
  },
  {
   "cell_type": "markdown",
   "metadata": {},
   "source": [
    "## 7. Exploring Donors by Partisanship and Age"
   ]
  },
  {
   "cell_type": "code",
   "execution_count": 12,
   "metadata": {},
   "outputs": [
    {
     "name": "stdout",
     "output_type": "stream",
     "text": [
      "   donor  partisanship_score\n",
      "0  False            3.932516\n",
      "1   True            4.387825\n"
     ]
    }
   ],
   "source": [
    "donor_partisanship = data[['donor', 'partisanship_score']]\n",
    "donor_partisanship = donor_partisanship.groupby('donor', as_index=False)['partisanship_score'].mean()\n",
    "print(donor_partisanship)"
   ]
  },
  {
   "cell_type": "code",
   "execution_count": 13,
   "metadata": {},
   "outputs": [
    {
     "name": "stdout",
     "output_type": "stream",
     "text": [
      "   donor        age\n",
      "0  False  57.786902\n",
      "1   True  62.263680\n"
     ]
    }
   ],
   "source": [
    "donor_age = data[['donor', 'age']]\n",
    "donor_age = donor_age.groupby('donor', as_index=False)['age'].mean()\n",
    "print(donor_age)"
   ]
  },
  {
   "cell_type": "markdown",
   "metadata": {},
   "source": [
    "### We now know:\n",
    "- The average donor is more left leaning than our average supporter.\n",
    "- The average voter is 4 years older than the average supporter."
   ]
  },
  {
   "cell_type": "markdown",
   "metadata": {},
   "source": [
    "## 8. Exploring Partianship by City\n",
    "Work in Progress"
   ]
  },
  {
   "cell_type": "code",
   "execution_count": 14,
   "metadata": {},
   "outputs": [
    {
     "name": "stdout",
     "output_type": "stream",
     "text": [
      "           primary_city  partisanship_score\n",
      "0              Abingdon            4.206897\n",
      "1               Accomac            4.200000\n",
      "2              Achilles            5.000000\n",
      "3                 Afton            4.587786\n",
      "4               Alberta            2.333333\n",
      "5                 Aldie            3.348837\n",
      "6            Alexandria            4.478363\n",
      "7             Altavista            2.714286\n",
      "8                 Alton            5.000000\n",
      "9    Amelia Court House            2.545455\n",
      "10              Amherst            3.494624\n",
      "11           Amissville            4.294118\n",
      "12            Annandale            4.396985\n",
      "13                  Apo            3.000000\n",
      "14           Appalachia            4.000000\n",
      "15           Appomattox            3.300000\n",
      "16               Ararat            3.000000\n",
      "17                  Ark            5.000000\n",
      "18            Arlington            4.645777\n",
      "19                Aroda            2.250000\n",
      "20            Arrington            3.833333\n",
      "21              Arvonia            4.000000\n",
      "22              Ashburn            4.135458\n",
      "23              Ashland            4.125000\n",
      "24                Axton            4.000000\n",
      "25               Aylett            4.187500\n",
      "26               Bacova            5.000000\n",
      "27   Baileys Crossroads            5.000000\n",
      "28            Baltimore            2.000000\n",
      "29                Banco            5.000000\n",
      "..                  ...                 ...\n",
      "650        West Augusta            5.000000\n",
      "651         West McLean            3.000000\n",
      "652          West Point            3.200000\n",
      "653    West Springfield            5.000000\n",
      "654         Weyers Cave            3.093750\n",
      "655          White Post            4.400000\n",
      "656         White Stone            3.928571\n",
      "657            Wicomico            4.000000\n",
      "658       Wicomico Chur            2.000000\n",
      "659     Wicomico Church            1.000000\n",
      "660        Williamsburg            3.765533\n",
      "661       Williamsville            2.000000\n",
      "662              Willis            4.300000\n",
      "663        Willis Wharf            3.000000\n",
      "664          Winchester            3.860656\n",
      "665             Windsor            2.000000\n",
      "666             Wingina            4.000000\n",
      "667               Wirtz            3.142857\n",
      "668                Wise            4.000000\n",
      "669            Wolftown            1.000000\n",
      "670    Woodberry Forest            4.142857\n",
      "671          Woodbridge            3.870283\n",
      "672           Woodstock            3.960526\n",
      "673           Woodville            5.000000\n",
      "674            Woolwine            5.000000\n",
      "675          Wytheville            4.055556\n",
      "676        Yancey Mills            5.000000\n",
      "677            Yorktown            3.466667\n",
      "678     Zion Crossroads            4.000000\n",
      "679                Zuni            4.000000\n",
      "\n",
      "[680 rows x 2 columns]\n"
     ]
    }
   ],
   "source": [
    "city_partisanship = data[['primary_city', 'partisanship_score']]\n",
    "city_partisanship = city_partisanship.groupby('primary_city', as_index=False)['partisanship_score'].mean()\n",
    "print(city_partisanship)"
   ]
  },
  {
   "cell_type": "code",
   "execution_count": 15,
   "metadata": {},
   "outputs": [],
   "source": [
    "# NEED TO FIGURE OUT HOW TO ONLY FIND THE MEAN PARTISANSHIP SCORE FOR THE CITIES INSIDE THE DICTIONARY 'top_cities_count'\n"
   ]
  }
 ],
 "metadata": {
  "kernelspec": {
   "display_name": "Python 3",
   "language": "python",
   "name": "python3"
  },
  "language_info": {
   "codemirror_mode": {
    "name": "ipython",
    "version": 3
   },
   "file_extension": ".py",
   "mimetype": "text/x-python",
   "name": "python",
   "nbconvert_exporter": "python",
   "pygments_lexer": "ipython3",
   "version": "3.6.4"
  }
 },
 "nbformat": 4,
 "nbformat_minor": 2
}
